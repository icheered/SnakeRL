{
 "cells": [
  {
   "cell_type": "markdown",
   "metadata": {},
   "source": [
    "# Import dependencies"
   ]
  },
  {
   "cell_type": "code",
   "execution_count": null,
   "metadata": {},
   "outputs": [],
   "source": [
    "%matplotlib notebook\n",
    "%matplotlib inline"
   ]
  },
  {
   "cell_type": "code",
   "execution_count": 1,
   "metadata": {},
   "outputs": [
    {
     "name": "stdout",
     "output_type": "stream",
     "text": [
      "Using device: cpu\n",
      "Logging to training/logs\n"
     ]
    }
   ],
   "source": [
    "import os\n",
    "import datetime \n",
    "\n",
    "import torch\n",
    "from stable_baselines3 import A2C, DQN, HER, PPO\n",
    "from stable_baselines3.common.vec_env import DummyVecEnv\n",
    "from stable_baselines3.common.evaluation import evaluate_policy\n",
    "from stable_baselines3.common.logger import configure\n",
    "from stable_baselines3.common.env_checker import check_env\n",
    "from stable_baselines3.common.callbacks import BaseCallback, EvalCallback, StopTrainingOnRewardThreshold\n",
    "\n",
    "from src.snake_env import SnakeEnv\n",
    "from src.utils import read_config\n",
    "from src.monitor import Monitor\n",
    "from src.logger_callback import LoggerCallback\n",
    "from src.human import Human\n",
    "\n",
    "device = torch.device(\"cuda\" if torch.cuda.is_available() else \"cpu\")\n",
    "print(\"Using device: {}\".format(device))\n",
    "\n",
    "# Read config and set up tensorboard logging\n",
    "config = read_config(\"config.yaml\")\n",
    "save_path = os.path.join('training', 'saved_models')\n",
    "log_path = os.path.join('training', 'logs')\n",
    "logger = configure(log_path, [\"stdout\", \"tensorboard\"])"
   ]
  },
  {
   "cell_type": "markdown",
   "metadata": {},
   "source": [
    "# Show the environment (for debugging)"
   ]
  },
  {
   "cell_type": "code",
   "execution_count": 2,
   "metadata": {},
   "outputs": [
    {
     "name": "stdout",
     "output_type": "stream",
     "text": [
      "width:  20 height:  20\n"
     ]
    },
    {
     "ename": "AttributeError",
     "evalue": "'Display' object has no attribute 'blocksize'",
     "output_type": "error",
     "traceback": [
      "\u001b[0;31m---------------------------------------------------------------------------\u001b[0m",
      "\u001b[0;31mAttributeError\u001b[0m                            Traceback (most recent call last)",
      "\u001b[1;32m/home/tjbakker/Documents/dev/vscode/python/SnakeRL/main.ipynb Cell 5\u001b[0m line \u001b[0;36m9\n\u001b[1;32m      <a href='vscode-notebook-cell:/home/tjbakker/Documents/dev/vscode/python/SnakeRL/main.ipynb#W4sZmlsZQ%3D%3D?line=5'>6</a>\u001b[0m score \u001b[39m=\u001b[39m \u001b[39m0\u001b[39m \n\u001b[1;32m      <a href='vscode-notebook-cell:/home/tjbakker/Documents/dev/vscode/python/SnakeRL/main.ipynb#W4sZmlsZQ%3D%3D?line=7'>8</a>\u001b[0m \u001b[39mwhile\u001b[39;00m \u001b[39mnot\u001b[39;00m done:\n\u001b[0;32m----> <a href='vscode-notebook-cell:/home/tjbakker/Documents/dev/vscode/python/SnakeRL/main.ipynb#W4sZmlsZQ%3D%3D?line=8'>9</a>\u001b[0m     env\u001b[39m.\u001b[39;49mrender()\n\u001b[1;32m     <a href='vscode-notebook-cell:/home/tjbakker/Documents/dev/vscode/python/SnakeRL/main.ipynb#W4sZmlsZQ%3D%3D?line=9'>10</a>\u001b[0m     action \u001b[39m=\u001b[39m env\u001b[39m.\u001b[39maction_space\u001b[39m.\u001b[39msample() \u001b[39m# Take a random action from the action space\u001b[39;00m\n\u001b[1;32m     <a href='vscode-notebook-cell:/home/tjbakker/Documents/dev/vscode/python/SnakeRL/main.ipynb#W4sZmlsZQ%3D%3D?line=10'>11</a>\u001b[0m     n_state, reward, done, _, info \u001b[39m=\u001b[39m  env\u001b[39m.\u001b[39mstep(action) \u001b[39m# Get new set of observations\u001b[39;00m\n",
      "File \u001b[0;32m~/Documents/dev/vscode/python/SnakeRL/src/snake_env.py:94\u001b[0m, in \u001b[0;36mSnakeEnv.render\u001b[0;34m(self)\u001b[0m\n\u001b[1;32m     92\u001b[0m     \u001b[39mreturn\u001b[39;00m\n\u001b[1;32m     93\u001b[0m \u001b[39melif\u001b[39;00m mode \u001b[39m==\u001b[39m \u001b[39m\"\u001b[39m\u001b[39mhuman\u001b[39m\u001b[39m\"\u001b[39m:\n\u001b[0;32m---> 94\u001b[0m     \u001b[39mself\u001b[39;49m\u001b[39m.\u001b[39;49mdisplay\u001b[39m.\u001b[39;49mupdate(\u001b[39mself\u001b[39;49m)\n",
      "File \u001b[0;32m~/Documents/dev/vscode/python/SnakeRL/src/display.py:43\u001b[0m, in \u001b[0;36mDisplay.update\u001b[0;34m(self, game)\u001b[0m\n\u001b[1;32m     41\u001b[0m             \u001b[39mself\u001b[39m\u001b[39m.\u001b[39m_draw_block(j, i, GREEN)\n\u001b[1;32m     42\u001b[0m         \u001b[39melif\u001b[39;00m \u001b[39mself\u001b[39m\u001b[39m.\u001b[39mgrid[i][j] \u001b[39m==\u001b[39m \u001b[39m3\u001b[39m:\n\u001b[0;32m---> 43\u001b[0m             \u001b[39mself\u001b[39;49m\u001b[39m.\u001b[39;49m_draw_block(j, i, RED)\n\u001b[1;32m     44\u001b[0m pygame\u001b[39m.\u001b[39mdisplay\u001b[39m.\u001b[39mflip()\n",
      "File \u001b[0;32m~/Documents/dev/vscode/python/SnakeRL/src/display.py:25\u001b[0m, in \u001b[0;36mDisplay._draw_block\u001b[0;34m(self, x, y, color)\u001b[0m\n\u001b[1;32m     20\u001b[0m \u001b[39mdef\u001b[39;00m \u001b[39m_draw_block\u001b[39m(\u001b[39mself\u001b[39m, x, y, color):\n\u001b[1;32m     21\u001b[0m     pygame\u001b[39m.\u001b[39mdraw\u001b[39m.\u001b[39mrect(\n\u001b[1;32m     22\u001b[0m         \u001b[39mself\u001b[39m\u001b[39m.\u001b[39mscreen,\n\u001b[1;32m     23\u001b[0m         color,\n\u001b[1;32m     24\u001b[0m         [\n\u001b[0;32m---> 25\u001b[0m             x \u001b[39m*\u001b[39m \u001b[39mself\u001b[39;49m\u001b[39m.\u001b[39;49mblocksize,\n\u001b[1;32m     26\u001b[0m             y \u001b[39m*\u001b[39m \u001b[39mself\u001b[39m\u001b[39m.\u001b[39mblocksize,\n\u001b[1;32m     27\u001b[0m             \u001b[39mself\u001b[39m\u001b[39m.\u001b[39mblocksize,\n\u001b[1;32m     28\u001b[0m             \u001b[39mself\u001b[39m\u001b[39m.\u001b[39mblocksize,\n\u001b[1;32m     29\u001b[0m         ],\n\u001b[1;32m     30\u001b[0m     )\n",
      "\u001b[0;31mAttributeError\u001b[0m: 'Display' object has no attribute 'blocksize'"
     ]
    }
   ],
   "source": [
    "env = SnakeEnv(config, render_mode=\"human\", max_episode_steps=1000)\n",
    "episodes = 5\n",
    "for episode in range(1, episodes+1):\n",
    "    state = env.reset() # Get initial set of observations\n",
    "    done = False\n",
    "    score = 0 \n",
    "    \n",
    "    while not done:\n",
    "        env.render()\n",
    "        action = env.action_space.sample() # Take a random action from the action space\n",
    "        n_state, reward, done, _, info =  env.step(action) # Get new set of observations\n",
    "        score+=reward\n",
    "    print('Episode:{} Score:{}'.format(episode, round(score,2)))\n",
    "env.close()"
   ]
  },
  {
   "cell_type": "markdown",
   "metadata": {},
   "source": [
    "# Manual drone control"
   ]
  },
  {
   "cell_type": "code",
   "execution_count": null,
   "metadata": {},
   "outputs": [],
   "source": []
  },
  {
   "cell_type": "code",
   "execution_count": null,
   "metadata": {},
   "outputs": [],
   "source": [
    "env = SnakeEnv(config, render_mode=\"human\", max_episode_steps=1000)\n",
    "human = Human(len(config[\"drone\"][\"motors\"]))\n",
    "episodes = 5\n",
    "for episode in range(1, episodes+1):\n",
    "    obs, _ = env.reset()\n",
    "    done = False\n",
    "    score = 0 \n",
    "    \n",
    "    while not done:\n",
    "        env.render()\n",
    "        action = human.get_action()\n",
    "        obs, reward, done, _, info = env.step(action) # Get new set of observations\n",
    "        score+=reward\n",
    "    print('Episode:{} Score:{}'.format(episode, round(score,2)))\n",
    "env.close()"
   ]
  },
  {
   "cell_type": "markdown",
   "metadata": {},
   "source": [
    "# Train the model"
   ]
  },
  {
   "cell_type": "code",
   "execution_count": null,
   "metadata": {},
   "outputs": [],
   "source": [
    "%matplotlib notebook\n",
    "%matplotlib inline\n",
    "\n",
    "num_envs = 16  # Number of parallel environments\n",
    "reward_threshold = 100000  # Stop training if the mean reward is greater or equal to this value\n",
    "max_episode_steps = 1000  # Max number of steps per episode\n",
    "total_timesteps = 1000000  # Total number of training steps (ie: environment steps)\n",
    "model_type = \"PPO\"\n",
    "\n",
    "env_fns = [lambda: SnakeEnv(config, max_episode_steps=1000) for _ in range(num_envs)]\n",
    "env = DummyVecEnv(env_fns)\n",
    "check_env(env.envs[0], warn=True)  # Check if the environment is valid\n",
    "\n",
    "stop_callback = StopTrainingOnRewardThreshold(reward_threshold=reward_threshold, verbose=1)\n",
    "eval_callback = EvalCallback(env, \n",
    "                             callback_on_new_best=stop_callback, \n",
    "                             eval_freq=1000, \n",
    "                             best_model_save_path=save_path, \n",
    "                             verbose=1)\n",
    "\n",
    "# Monitor handles the plotting of reward and survive time during training\n",
    "monitor = Monitor(config)\n",
    "monitor.log_data(1, 1)\n",
    "monitor.update_plot()\n",
    "logger = LoggerCallback(monitor=monitor)\n",
    "\n",
    "callbacks = [eval_callback, logger]\n",
    "\n",
    "# Create the model\n",
    "model = None\n",
    "# Switch for model type\n",
    "if model_type == \"PPO\":\n",
    "    model = PPO(\"MlpPolicy\", env, verbose=1, tensorboard_log=log_path)\n",
    "elif model_type == \"A2C\":\n",
    "    model = A2C(\"MlpPolicy\", env, verbose=1, tensorboard_log=log_path)\n",
    "elif model_type == \"DQN\":\n",
    "    model = DQN(\"MlpPolicy\", env, verbose=1, tensorboard_log=log_path)\n",
    "elif model_type == \"HER\":\n",
    "    model = HER(\"MlpPolicy\", env, verbose=1, tensorboard_log=log_path)\n",
    "else:\n",
    "    raise ValueError(\"Model type not specified\")\n",
    "\n",
    "# Do the actual learning\n",
    "model.learn(total_timesteps=total_timesteps, progress_bar=True, callback=callbacks)"
   ]
  },
  {
   "cell_type": "markdown",
   "metadata": {},
   "source": [
    "# Save the model to disk "
   ]
  },
  {
   "cell_type": "code",
   "execution_count": null,
   "metadata": {},
   "outputs": [],
   "source": [
    "# Save the with date and time\n",
    "savefilename = os.path.join(save_path, model_type + \"_\" + datetime.datetime.now().strftime(\"%Y%m%d-%H%M%S\"))\n",
    "model.save(savefilename)"
   ]
  },
  {
   "cell_type": "markdown",
   "metadata": {},
   "source": [
    "# Evaluate performance (show the agent in action)"
   ]
  },
  {
   "cell_type": "code",
   "execution_count": null,
   "metadata": {},
   "outputs": [],
   "source": [
    "#filename = \"PPO_20231209-154908\"\n",
    "filename = \"PPO_20231209-171138\"\n",
    "\n",
    "env = SnakeEnv(config, render_mode=\"human\", max_episode_steps=500)\n",
    "env = DummyVecEnv([lambda: env])\n",
    "model = PPO.load(os.path.join('training', 'saved_models', filename), env=env)\n",
    "evaluate_policy(model, env, n_eval_episodes=5, render=True)\n",
    "env.close()"
   ]
  },
  {
   "cell_type": "markdown",
   "metadata": {},
   "source": [
    "# Manually show the agent in action (for debugging)"
   ]
  },
  {
   "cell_type": "code",
   "execution_count": null,
   "metadata": {},
   "outputs": [],
   "source": [
    "env = SnakeEnv(config, render_mode=\"human\", max_episode_steps=1000)\n",
    "model = PPO.load(os.path.join('training', 'saved_models', 'PPO_model_0.5m'), env=env)\n",
    "episodes = 5\n",
    "for episode in range(1, episodes+1):\n",
    "    obs, _ = env.reset()\n",
    "    done = False\n",
    "    score = 0 \n",
    "    \n",
    "    while not done:\n",
    "        env.render()\n",
    "        action, _ = model.predict(obs)\n",
    "        obs, reward, done, _, info = env.step(action) # Get new set of observations\n",
    "        score+=reward\n",
    "    print('Episode:{} Score:{}'.format(episode, round(score,2)))\n",
    "env.close()"
   ]
  }
 ],
 "metadata": {
  "kernelspec": {
   "display_name": ".venv",
   "language": "python",
   "name": "python3"
  },
  "language_info": {
   "codemirror_mode": {
    "name": "ipython",
    "version": 3
   },
   "file_extension": ".py",
   "mimetype": "text/x-python",
   "name": "python",
   "nbconvert_exporter": "python",
   "pygments_lexer": "ipython3",
   "version": "3.10.11"
  }
 },
 "nbformat": 4,
 "nbformat_minor": 2
}
